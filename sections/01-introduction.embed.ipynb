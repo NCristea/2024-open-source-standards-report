{
 "cells": [
  {
   "cell_type": "markdown",
   "metadata": {},
   "source": [
    "# \n",
    "\n",
    "# Introduction\n",
    "\n",
    "The Brain Imaging Data Structure BIDS \\[@Gorgolewski2016BIDS\\] is an example of a data standard."
   ],
   "id": "2b3e8c80-fc77-4009-8299-1fe9bbef2007"
  }
 ],
 "nbformat": 4,
 "nbformat_minor": 5,
 "metadata": {}
}
