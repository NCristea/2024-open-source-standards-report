{
 "cells": [
  {
   "cell_type": "markdown",
   "metadata": {},
   "source": [
    "# \n",
    "\n",
    "# Introduction\n",
    "\n",
    "The Brain Imaging Data Structure BIDS \\[@Gorgolewski2016BIDS\\] is an example of a data standard."
   ],
   "id": "d90d79c1-00f2-4332-b1a9-e9b22bd32ac5"
  }
 ],
 "nbformat": 4,
 "nbformat_minor": 5,
 "metadata": {}
}
