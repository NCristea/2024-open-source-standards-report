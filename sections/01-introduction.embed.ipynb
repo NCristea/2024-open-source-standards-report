{
 "cells": [
  {
   "cell_type": "markdown",
   "metadata": {},
   "source": [
    "# \n",
    "\n",
    "# Introduction\n",
    "\n",
    "The Brain Imaging Data Structure BIDS \\[@Gorgolewski2016BIDS\\] is an example of a data standard."
   ],
   "id": "61feff94-4f96-411c-b676-7d8f370c22b4"
  }
 ],
 "nbformat": 4,
 "nbformat_minor": 5,
 "metadata": {}
}
