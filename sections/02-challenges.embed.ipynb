{
 "cells": [
  {
   "cell_type": "markdown",
   "metadata": {},
   "source": [
    "# \n",
    "\n",
    "# Challenges for open source data and metadata standards, and some solutions\n",
    "\n",
    "## Too much flexibility, or too little\n",
    "\n",
    "It’s a story as old as time (or at least as old as standards): users fail to consider existing standards, or perceive an existing standard as not offering enough flexibility to cover some use case, and they embark on the development of a new standard [1].\n",
    "\n",
    "Another failure is the mismatch between developers of the standard and users. There is an iherent gap in both interest and ability to engage with the technical details undergirding standards and their development between the developers of the standard and their users. In extreme cases, these interests may be at odds, as developers implement sophisticated mechanisms to automate the creation of the standard or advocate for more technically advanced mechanisms for evolving the standard, leaving potential users sidelined in the development of the standard, and limiting their ability to provide feedback about the practical implications of changes to the standards.\n",
    "\n",
    "## Sustainability\n",
    "\n",
    "## The importance of automated validation\n",
    "\n",
    "[1] So old in fact that an oft-cited [XKCD comic](https://xkcd.com/927/) has been devoted to it."
   ],
   "id": "094b2e74-f63d-4e23-941a-df8a17da329c"
  }
 ],
 "nbformat": 4,
 "nbformat_minor": 5,
 "metadata": {}
}
