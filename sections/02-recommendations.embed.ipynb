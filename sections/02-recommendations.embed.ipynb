{
 "cells": [
  {
   "cell_type": "markdown",
   "metadata": {},
   "source": [
    "# \n",
    "\n",
    "# Recommendations\n",
    "\n",
    "We make the following recommendations:\n",
    "\n",
    "1.  Training for data stewards and career paths that encourage this role.\n",
    "2.  Development of meta-standards or standards-of-standards. These are descriptions of cross-cutting best-practices. These can be used as a basis of the analysis or assessment of an existing standard, or as guidelines to develop new standards."
   ],
   "id": "8332422c-c5f3-4633-91a5-0619bbfe791a"
  }
 ],
 "nbformat": 4,
 "nbformat_minor": 5,
 "metadata": {}
}
