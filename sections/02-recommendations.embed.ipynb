{
 "cells": [
  {
   "cell_type": "markdown",
   "metadata": {},
   "source": [
    "# \n",
    "\n",
    "# Recommendations\n",
    "\n",
    "We make the following recommendations:\n",
    "\n",
    "1.  Training for data stewards and career paths that encourage this role.\n",
    "2.  Development of meta-standards or standards-of-standards. These are descriptions of cross-cutting best-practices. These can be used as a basis of the analysis or assessment of an existing standard, or as guidelines to develop new standards."
   ],
   "id": "dbf831e6-9a37-43a3-9afb-343757080c69"
  }
 ],
 "nbformat": 4,
 "nbformat_minor": 5,
 "metadata": {}
}
