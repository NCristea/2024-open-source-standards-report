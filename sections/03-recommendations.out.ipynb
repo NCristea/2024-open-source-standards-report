{
 "cells": [
  {
   "cell_type": "markdown",
   "metadata": {},
   "source": [
    "# \n",
    "\n",
    "# Recommendations for open-source data and metadata standards\n",
    "\n",
    "In conclusion of this report, we propose the following recommendations:\n",
    "\n",
    "## Funding or Grantmaking entities:\n",
    "\n",
    "### Fund Data Standards Development\n",
    "\n",
    "While some funding agencies already support standards development as part of the development of informatics infrastructures, data standards development should be seen as integral to science innovation and earmarked for funding in research grants, not only in specialized contexts. Funding models should encourage the development and adoption of standards, and fund associated community efforts and tools for this. The OSS model is seen as a particularly promising avenue for an investment of resources, because it builds on previously-developed procedures and technical infrastructure and because it provides avenues for community input along the way. The clarity offered by procedures for enhancement proposals and semantic versioning schemes adopted in standards development offer avenues for a range of stakeholders to propose to funding bodies well-defined contributions to large and field-wide standards efforts.\n",
    "\n",
    "### Invest in Data Stewards Recognize data stewards as a distinct role in\n",
    "\n",
    "research and science investment. Set up programs for training for data stewards and invest in career paths that encourage this role. Initial proposals for the curriculum and scope of the role have already been proposed (e.g., in ([Mons 2018](#ref-Mons2018DataStewardshipBook)))\n",
    "\n",
    "### Review Data Standards Pathways\n",
    "\n",
    "Invest in programs that examine retrospective pathways for establishing data standards. Encourage publication of lifecycles for successful data standards. Lifecycle should include process, creators, affiliations, grants, and adoption journeys. Make this documentation step integral to the work of standards creators and granting agencies. Retrocactively document #3 for standards such as CF(climate science), NASA genelab (space omics), OpenGIS (geospatial), DICOM (medical imaging), GA4GH (genomics), FITS (astronomy), Zarr (domain agnostic n-dimensional arrays)… ?\n",
    "\n",
    "### Establish Governance\n",
    "\n",
    "Establish governance for standards creation and adoption, especially for communities beyond a certain size that need to converge toward a new standard or rely on an existing standard. Review existing governance practices such as [TheOpenSourceWay](https://www.theopensourceway.org/the_open_source_way-guidebook-2.0.html#_project_and_community_governance). Data management plans should promote the sharing of not only data, but also metadata and descriptions of how to use it.\n",
    "\n",
    "### Program Manage Cross Sector alliances\n",
    "\n",
    "Encourage cross sector and cross domain alliances that can impact successful standards creation. Invest in robust program management of these alliances to align pace and create incentives (for instance via Open Source Program Office / OSPO efforts). Similar to program officers at funding agencies, standards evolution need sustained PM efforts. Multi company partnerships should include strategic initiatives for standard establishment e.g. [Pistoiaalliance](https://www.pistoiaalliance.org/news/press-release-pistoia-alliance-launches-idmp-1-0/).\n",
    "\n",
    "### Curriculum Development\n",
    "\n",
    "Stakeholder organizations should invest in training grants to establish curriculum for data and metadata standards education."
   ],
   "id": "26ab4dc8-cf77-43b9-9ae7-3149325daad3"
  },
  {
   "cell_type": "raw",
   "metadata": {
    "raw_mimetype": "text/html"
   },
   "source": [
    "</ol>"
   ],
   "id": "a96123fd-eeb3-414b-bb7d-5ee8f24ced19"
  },
  {
   "cell_type": "markdown",
   "metadata": {},
   "source": [
    "## Science and Technology Communities:\n",
    "\n",
    "### User Driven Development\n",
    "\n",
    "Standards should be needs-driven and developed in close collaboration with users. Changes and enhancements should be in response to community feedback.\n",
    "\n",
    "### Meta-Standards development\n",
    "\n",
    "Develop meta-standards or standards-of-standards. These are descriptions of cross-cutting best-practices and can be used as a basis of the analysis or assessment of an existing standard, or as guidelines to develop new standards. For instance, barriers to adopting a data standard irrespective of team size and technological capabilities should be considered. Meta standards should include formalization for versioning of standards & interaction with related software. Naming of standards should aid marketing and adoption.\n",
    "\n",
    "### Ontology Development\n",
    "\n",
    "Create ontology for standards process such as top down vs bottom up, minimum number of datasets, community size. Examine schema.org (w3c), PEP (Python), CDISC (FDA).\n",
    "\n",
    "### Formalization Guidelines\n",
    "\n",
    "Amplify formalization/guidelines on how to create standards (example metadata schema specifications using [LinkML](https://linkml.io).\n",
    "\n",
    "### Landscape and Failure Analysis\n",
    "\n",
    "Before establishing a new standard, survey and document failure of current standards for a specific dataset / domain. Use resources such as [Fairsharing](https://fairsharing.org/) or [Digital Curation Center](https://www.dcc.ac.uk/guidance/standards).\n",
    "\n",
    "### Machine Readability\n",
    "\n",
    "Development of standards should be coupled with development of associated software. Make data standards machine readable, and software creation an integral part of establishing a standard’s schema e.g. For identifiers for a person using CFF in citations, cffconvert software makes the CFF standard usable and useful. Additionally, standards evolution should maintain software compatibility, and ability to translate and migrate between standards.\n",
    "\n",
    "Mons, Barend. 2018. *Data Stewardship for Open Science: Implementing FAIR Principles*. 1st ed. Vol. 1. Milton: CRC Press. <https://doi.org/10.1201/9781315380711>."
   ],
   "id": "e902dab5-3d70-4ec2-b0f7-97ea7a3a01f0"
  }
 ],
 "nbformat": 4,
 "nbformat_minor": 5,
 "metadata": {}
}
