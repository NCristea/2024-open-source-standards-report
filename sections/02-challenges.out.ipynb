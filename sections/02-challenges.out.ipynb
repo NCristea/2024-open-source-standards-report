{
 "cells": [
  {
   "cell_type": "markdown",
   "metadata": {},
   "source": [
    "# \n",
    "\n",
    "# Challenges for open source data and metadata standards, and some solutions\n",
    "\n",
    "## Too much flexibility, or too little\n",
    "\n",
    "It’s a story as old as time (or at least as old as standards): users fail to consider existing standards, or perceive an existing standard as not offering enough flexibility to cover some use case, and they embark on the development of a new standard [1].\n",
    "\n",
    "Another failure is the mismatch between developers of the standard and users.\n",
    "\n",
    "## Sustainability\n",
    "\n",
    "## The importance of automated validation\n",
    "\n",
    "[1] So old in fact that an oft-cited [XKCD comic](https://xkcd.com/927/) has been devoted to it."
   ],
   "id": "6798b8ab-3824-4505-b40e-a7669bc88fd4"
  }
 ],
 "nbformat": 4,
 "nbformat_minor": 5,
 "metadata": {}
}
