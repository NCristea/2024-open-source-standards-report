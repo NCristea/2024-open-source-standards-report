{
 "cells": [
  {
   "cell_type": "markdown",
   "metadata": {},
   "source": [
    "# \n",
    "\n",
    "# Recommendations\n",
    "\n",
    "We make the following recommendations:\n",
    "\n",
    "1.  Training for data stewards and career paths that encourage this role.\n",
    "2.  Development of meta-standards or standards-of-standards. These are descriptions of cross-cutting best-practices. These can be used as a basis of the analysis or assessment of an existing standard, or as guidelines to develop new standards."
   ],
   "id": "cdcdbd2e-54fe-496e-8f6e-960a06ce4258"
  }
 ],
 "nbformat": 4,
 "nbformat_minor": 5,
 "metadata": {}
}
