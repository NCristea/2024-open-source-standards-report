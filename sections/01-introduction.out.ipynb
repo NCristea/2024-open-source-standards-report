{
 "cells": [
  {
   "cell_type": "markdown",
   "metadata": {},
   "source": [
    "# \n",
    "\n",
    "# Introduction\n",
    "\n",
    "The Brain Imaging Data Structure BIDS \\[@Gorgolewski2016BIDS\\] is an example of a data standard."
   ],
   "id": "e178eb2e-ba68-4946-b714-0998fb52158e"
  }
 ],
 "nbformat": 4,
 "nbformat_minor": 5,
 "metadata": {}
}
