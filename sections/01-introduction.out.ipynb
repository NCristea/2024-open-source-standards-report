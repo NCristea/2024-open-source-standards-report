{
 "cells": [
  {
   "cell_type": "markdown",
   "metadata": {},
   "source": [
    "# \n",
    "\n",
    "# Introduction\n",
    "\n",
    "The Brain Imaging Data Structure BIDS \\[@Gorgolewski2016BIDS\\] is an example of a data standard."
   ],
   "id": "73e79e5a-504a-4753-808b-7a3de91a6460"
  }
 ],
 "nbformat": 4,
 "nbformat_minor": 5,
 "metadata": {}
}
